{
 "cells": [
  {
   "cell_type": "code",
   "execution_count": 2,
   "metadata": {},
   "outputs": [
    {
     "name": "stdout",
     "output_type": "stream",
     "text": [
      "Pixiedust database opened successfully\n"
     ]
    },
    {
     "data": {
      "text/html": [
       "\n",
       "        <div style=\"margin:10px\">\n",
       "            <a href=\"https://github.com/ibm-watson-data-lab/pixiedust\" target=\"_new\">\n",
       "                <img src=\"https://github.com/ibm-watson-data-lab/pixiedust/raw/master/docs/_static/pd_icon32.png\" style=\"float:left;margin-right:10px\"/>\n",
       "            </a>\n",
       "            <span>Pixiedust version 1.1.18</span>\n",
       "        </div>\n",
       "        "
      ],
      "text/plain": [
       "<IPython.core.display.HTML object>"
      ]
     },
     "metadata": {},
     "output_type": "display_data"
    }
   ],
   "source": [
    "import os\n",
    "import sys\n",
    "import random\n",
    "import math\n",
    "from copy import copy, deepcopy\n",
    "import numpy as np\n",
    "import skimage.io\n",
    "import matplotlib\n",
    "import matplotlib.pyplot as plt\n",
    "import cv2\n",
    "import scipy\n",
    "import pandas as pd\n",
    "import pixiedust\n",
    "from pathlib import Path\n",
    "# load numpy array from npy file\n",
    "from numpy import load\n",
    "from scipy.stats import multivariate_normal\n",
    "from scipy.optimize import linear_sum_assignment\n",
    "import heapq\n",
    "import scipy.linalg as la"
   ]
  },
  {
   "cell_type": "code",
   "execution_count": 11,
   "metadata": {},
   "outputs": [],
   "source": [
    "# HERE IS WHERE I CHANGE VIDEO LOCATION AND TRACKER TYPE FOR SAVING AND LOADING DATA:\n",
    "# Specific video location\n",
    "Video = \"street_walk_3\"\n",
    "# Tracking type\n",
    "Tracker = \"_hung_area_MD\"\n",
    "# Video using mask or tracking output\n",
    "vid_input_type = \"original\" #Choose between masked or original\n",
    "# NOW EVERYTHING ELSE GETS DONE AUTOMATICALLY\n",
    "\n",
    "# Root directory of the project\n",
    "ROOT_DIR = os.path.abspath(\"C:/Users/ddefr/OneDrive/Documents/Skripsie/Mask_RCNN\")\n",
    "\n",
    "# Directory for all videos\n",
    "all_vids = Path(\"C:/Users/ddefr/OneDrive/Documents/skripsie_videos\")\n",
    "\n",
    "#Specific video dir\n",
    "video_dir = all_vids / Video\n",
    "\n",
    "# Measurements to load:\n",
    "load_measurement = video_dir / \"measurements.npy\"\n",
    "load_measurement_3 = video_dir / \"load_measurements_3.npy\"\n",
    "object_one = os.path.join(video_dir,'object_one.npy')\n",
    "# Result save locations:\n",
    "mu_save = os.path.join(video_dir,'mu{}.npy'.format(Tracker))\n",
    "cov_save = os.path.join(video_dir,'cov{}.npy'.format(Tracker))\n",
    "mu_obs_save = os.path.join(video_dir,'mu_obs{}.npy'.format(Tracker))\n",
    "cov_obs_save = os.path.join(video_dir,'cov_obs{}.npy'.format(Tracker))\n",
    "number_of_detections_save = os.path.join(video_dir,'number_of_detections{}.npy'.format(Tracker))\n",
    "\n",
    "# Using mask pictures or tracking pictures to make video:\n",
    "image_path_save = os.path.join(video_dir,'{}_tracking{}_pics'.format(vid_input_type,Tracker))\n",
    "image_path_mask = video_dir / \"mask_pics/\"\n",
    "\n",
    "# video input\n",
    "video_input = os.path.join(video_dir,'{}.mp4'.format(vid_input_type))\n",
    "\n",
    "# video output\n",
    "video_output = os.path.join(video_dir,'{}_tracking{}.mp4'.format(vid_input_type,Tracker))\n",
    "video_output_mask = os.path.join(video_dir,'masked.mp4')\n",
    "\n",
    "# Import Mask RCNN\n",
    "sys.path.append(ROOT_DIR)  # To find local version of the library\n",
    "\n",
    "from mrcnn import utils\n",
    "import mrcnn.model as modellib\n",
    "from mrcnn import visualize\n",
    "# Import COCO config\n",
    "sys.path.append(os.path.join(ROOT_DIR, \"samples/coco/\"))  # To find local version\n",
    "import coco\n",
    "%matplotlib inline"
   ]
  },
  {
   "cell_type": "code",
   "execution_count": 4,
   "metadata": {},
   "outputs": [],
   "source": [
    "#graph drawing:\n",
    "#Multivariate functions\n",
    "def multi_gauss_pdf(mu, covariance, x, dim):\n",
    "    if np.all(mu != None) and np.all(covariance != None) and np.all(x != None):\n",
    "        x_m = x - mu\n",
    "        ans = (1./(np.sqrt(((2*np.pi)**dim)*np.linalg.det(covariance))))*np.exp(-0.5*(np.linalg.solve(covariance,x_m).T.dot(x_m)))\n",
    "        x_0 = mu - mu\n",
    "        c_norm = (1./(np.sqrt(((2*np.pi)**dim)*np.linalg.det(covariance))))*np.exp(-0.5*(np.linalg.solve(covariance,x_0).T.dot(x_0)))\n",
    "        ans_norm = ans/c_norm\n",
    "    else:\n",
    "        ans = None\n",
    "        ans_norm = None\n",
    "    return (ans_norm)\n",
    "\n",
    "#Create grid and multivariate normal\n",
    "def Bivariate_plot(x_range,y_range,mu,covariance,levels):\n",
    "    x = np.linspace(0,x_range,x_range)\n",
    "    y = np.linspace(0,y_range,y_range)\n",
    "    X, Y = np.meshgrid(x,y)\n",
    "    pos = np.array([X.flatten(),Y.flatten()]).T\n",
    "    rv = multivariate_normal([mu[0][0],mu[1][0]], covariance)\n",
    "    fig = plt.figure(figsize=(10,6))\n",
    "    ax = fig.add_subplot(111)\n",
    "    plt.title('Bivariate Gaussian distribution')\n",
    "    ax.set_xlabel('$x$')\n",
    "    ax.set_ylabel('$y$')\n",
    "    CS = ax.contour(rv.pdf(pos).reshape(y_range,x_range), levels,colors=['green', 'red', 'blue'])\n",
    "    leg = CS.legend_elements()\n",
    "    labels = ['$p_1(x)$ = %f'%(levels[2]), '$p_2(x)$ = %f'%(levels[1]),'$p_3(x)$ = %f'%(levels[0])]\n",
    "    ax.legend([leg[0][2], leg[0][1], leg[0][0]], labels)\n",
    "    return(plt)"
   ]
  },
  {
   "cell_type": "code",
   "execution_count": 24,
   "metadata": {},
   "outputs": [],
   "source": [
    "# load array\n",
    "cov_obs = load(cov_obs_save, allow_pickle=True)\n",
    "# load array\n",
    "mu_obs = load(mu_obs_save, allow_pickle=True)\n",
    "# load array\n",
    "measurements = load(load_measurement_3, allow_pickle=True)\n",
    "# load array\n",
    "number_of_detections = load(number_of_detections_save, allow_pickle=True)"
   ]
  },
  {
   "cell_type": "code",
   "execution_count": 55,
   "metadata": {
    "pixiedust": {
     "displayParams": {}
    }
   },
   "outputs": [
    {
     "name": "stderr",
     "output_type": "stream",
     "text": [
      "C:\\Users\\ddefr\\Anaconda3\\envs\\pgmpractice\\lib\\site-packages\\ipykernel_launcher.py:13: DeprecationWarning: This function is deprecated. Please call randint(0, 255 + 1) instead\n",
      "  del sys.path[0]\n",
      "C:\\Users\\ddefr\\Anaconda3\\envs\\pgmpractice\\lib\\site-packages\\ipykernel_launcher.py:53: RuntimeWarning: divide by zero encountered in double_scalars\n"
     ]
    }
   ],
   "source": [
    "#Set Paths\n",
    "vid_path = video_input\n",
    "proccessed_image_path = image_path_save\n",
    "\n",
    "#Start Capture + get number of frames\n",
    "capture = cv2.VideoCapture(str(vid_path))\n",
    "tot_frames = capture.get(7)\n",
    "frame_count = 0\n",
    "frames = []\n",
    "startAngle = 0\n",
    "endAngle = 360\n",
    "thickness = 5\n",
    "colours = np.random.random_integers(0,255, size=(1500,3))\n",
    "z = 0\n",
    "color = np.array([[40,250,25],[250,20,140],[0,20,80],[250,25,50],[25,0,100],[0,0,255],[255,0,0],[100,0,100],[0,255,255],[255,255,0],[0,255,0],[0,100,0],[80,255,80],[255,255,255],[0,0,0]])\n",
    "while True:\n",
    "    ret, frame = capture.read()\n",
    "    # Bail out when the video file ends\n",
    "    if not ret:\n",
    "        break        \n",
    "    # Save each frame of the video to a list\n",
    "    frame_count += 1\n",
    "    if frame_count == 20:\n",
    "        stop = []\n",
    "    frames.append(frame)   \n",
    "    for i, item in enumerate(zip(frames)):\n",
    "        frame = item[0]\n",
    "        for m in range(len(measurements[frame_count-1])):\n",
    "            if not np.any(pd.isnull(measurements[frame_count-1][m])):\n",
    "                coords = (int(measurements[frame_count-1][m][0]), int(1080-measurements[frame_count-1][m][1]))\n",
    "                dot_size = 5\n",
    "                black = [0,0,255]\n",
    "                cv2.circle(frame, coords, dot_size, black, -1)\n",
    "        \n",
    "        for z in range(len(mu_obs[frame_count-1])):\n",
    "        #for z in range(420,421):\n",
    "            if z == 0 or z == 1 or z == 2 or z == 3 or z == 275 or z == 276 or z == 384 or z == 421:\n",
    "                if not np.any(pd.isnull(mu_obs[frame_count-1][z])) and number_of_detections[z] > 10:\n",
    "                    coords = (int(mu_obs[frame_count-1][z][0]), int(1080-mu_obs[frame_count-1][z][1]))\n",
    "                    avg_cov = int((cov_obs[frame_count-1][z][0][0]+cov_obs[frame_count-1][z][1][1])/2)\n",
    "                    std_dev = int(np.sqrt(avg_cov))\n",
    "                    if std_dev < 25:\n",
    "                        cov_2_by_2 = np.array([[cov_obs[frame_count-1][z][0][0], cov_obs[frame_count-1][z][0][1]],[cov_obs[frame_count-1][z][1][0], cov_obs[frame_count-1][z][1][1]]])\n",
    "                        eigvals, eigvecs = la.eig(cov_2_by_2)\n",
    "                        eigvals = eigvals.real\n",
    "                        if eigvals[0] > eigvals[1]:\n",
    "                            a = int(np.sqrt(eigvals[0]))\n",
    "                            b = int(np.sqrt(eigvals[1]))\n",
    "                            angle = int(np.arctan(eigvecs[0][1]/eigvecs[0][0]))\n",
    "                        else:\n",
    "                            a = int(np.sqrt(eigvals[1]))\n",
    "                            b = int(np.sqrt(eigvals[0]))\n",
    "                            angle = int(np.arctan(eigvecs[1][1]/eigvecs[1][0]))\n",
    "                        axesLength = (int(a),int(b))\n",
    "                        c = [int(colours[z][0]),int(colours[z][1]),int(colours[z][2])]\n",
    "                        #cv2.circle(frame, coords, int(mu_obs[frame_count-1][z][4], c, -1)\n",
    "                        cv2.ellipse(frame, coords, axesLength, angle, 0, 360, c, 2) \n",
    "        cv2.imshow('frame', frame)\n",
    "        name = '{0}.jpg'.format(frame_count)\n",
    "        name = os.path.join(str(proccessed_image_path), name)\n",
    "        cv2.imwrite(name, frame)\n",
    "        #Clear the frames array to start the next batch\n",
    "    frames = []"
   ]
  },
  {
   "cell_type": "code",
   "execution_count": 57,
   "metadata": {},
   "outputs": [
    {
     "data": {
      "text/plain": [
       "<VideoWriter 000001D9BFDEC4D0>"
      ]
     },
     "execution_count": 57,
     "metadata": {},
     "output_type": "execute_result"
    }
   ],
   "source": [
    "#Set Paths\n",
    "proccessed_image_path = image_path_save\n",
    "outvid = video_output\n",
    "#Start Capture + get number of frames\n",
    "\n",
    "def make_video(outvid, images=None, fps=20, size=None,\n",
    "               is_color=True, format=\"FMP4\"):\n",
    "    \"\"\"\n",
    "    Create a video from a list of images.\n",
    " \n",
    "    @param      outvid      output video\n",
    "    @param      images      list of images to use in the video\n",
    "    @param      fps         frame per second\n",
    "    @param      size        size of each frame\n",
    "    @param      is_color    color\n",
    "    @param      format      see http://www.fourcc.org/codecs.php\n",
    "    @return                 see http://opencv-python-tutroals.readthedocs.org/en/latest/py_tutorials/py_gui/py_video_display/py_video_display.html\n",
    "    \"\"\"\n",
    "    from cv2 import VideoWriter, VideoWriter_fourcc, imread, resize\n",
    "    fourcc = VideoWriter_fourcc(*format)\n",
    "    vid = None\n",
    "    for image in images:\n",
    "        if not os.path.exists(image):\n",
    "            raise FileNotFoundError(image)\n",
    "        img = imread(image)\n",
    "        if vid is None:\n",
    "            if size is None:\n",
    "                size = img.shape[1], img.shape[0]\n",
    "            vid = VideoWriter(outvid, fourcc, float(fps), size, is_color)\n",
    "        if size[0] != img.shape[1] and size[1] != img.shape[0]:\n",
    "            img = resize(img, size)\n",
    "        vid.write(img)\n",
    "    vid.release()\n",
    "    return vid\n",
    "\n",
    "import glob\n",
    "import os\n",
    "\n",
    "# Directory of images to run detection on\n",
    "ROOT_DIR = os.getcwd()\n",
    "VIDEO_DIR = os.path.join(ROOT_DIR, \"videos\")\n",
    "VIDEO_SAVE_DIR = os.path.join(VIDEO_DIR, \"save\")\n",
    "images = list(glob.iglob(os.path.join(proccessed_image_path, '*.*')))\n",
    "# Sort the images by integer index\n",
    "images = sorted(images, key=lambda x: float(os.path.split(x)[1][:-3]))\n",
    "make_video(outvid, images, fps=20)\n",
    "\n"
   ]
  },
  {
   "cell_type": "code",
   "execution_count": null,
   "metadata": {
    "pixiedust": {
     "displayParams": {}
    }
   },
   "outputs": [
    {
     "data": {
      "text/html": [
       "<style type=\"text/css\">.pd_warning{display:none;}</style><div class=\"pd_warning\"><em>Hey, there's something awesome here! To see it, open this notebook outside GitHub, in a viewer like Jupyter</em></div>"
      ],
      "text/plain": [
       "<IPython.core.display.HTML object>"
      ]
     },
     "metadata": {
      "pixieapp_metadata": null
     },
     "output_type": "display_data"
    }
   ],
   "source": [
    "%%pixie_debugger\n",
    "#Set Paths\n",
    "import glob\n",
    "import os\n",
    "vid_path = video_input\n",
    "proccessed_image_path = image_path_save\n",
    "#Start Capture + get number of frames\n",
    "startAngle = 0\n",
    "endAngle = 360\n",
    "thickness = 5\n",
    "colours = np.random.random_integers(0,255, size=(1500,3))\n",
    "color = np.array([[40,250,25],[250,20,140],[0,20,80],[250,25,50],[25,0,100],[0,0,255],[255,0,0],[100,0,100],[0,255,255],[255,255,0],[0,255,0],[0,100,0],[80,255,80],[255,255,255],[0,0,0]])\n",
    "images = list(glob.iglob(os.path.join(proccessed_image_path, '*.*')))\n",
    "images = sorted(images, key=lambda x: float(os.path.split(x)[1][:-3]))\n",
    "image = images[100]\n",
    "for i in range(100):\n",
    "    frame_count = i +1\n",
    "    img = cv2.imread(image,0)\n",
    "    for m in range(len(measurements[frame_count-1])):\n",
    "        if not np.any(pd.isnull(measurements[frame_count-1][m])):\n",
    "            coords = (int(measurements[frame_count-1][m][0]), int(1080-measurements[frame_count-1][m][1]))\n",
    "            dot_size = 5\n",
    "            black = [0,0,0]\n",
    "            cv2.circle(img, coords, dot_size, black, -1)\n",
    "    \n",
    "    for z in range(len(mu_obs[frame_count-1])):\n",
    "        if not np.any(pd.isnull(mu_obs[frame_count-1][z])) and number_of_detections[z] > 10:\n",
    "            coords = (int(mu_obs[frame_count-1][z][0]), int(1080-mu_obs[frame_count-1][z][1]))\n",
    "            avg_cov = int((cov_obs[frame_count-1][z][0][0]+cov_obs[frame_count-1][z][1][1])/2)\n",
    "            std_dev = int(np.sqrt(avg_cov))\n",
    "            #cov_2_by_2 = np.array([[cov_obs[frame_count-1][z][0][0], cov_obs[frame_count-1][z][0][1]],[cov_obs[frame_count-1][z][1][0], cov_obs[frame_count-1][z][1][1]]])                eigvals, eigvecs = la.eig(cov_2_by_2)\n",
    "            #eigvals = eigvals.real\n",
    "           # if eigvals[0] > eigvals[1]:\n",
    "           #     a = int(np.sqrt(eigvals[0]))\n",
    "            #    b = int(np.sqrt(eigvals[1]))\n",
    "             #   angle = int(np.arctan(eigvecs[0][1]/eigvecs[0][0]))\n",
    "            #else:\n",
    "             #   a = int(np.sqrt(eigvals[1]))\n",
    "              #  b = int(np.sqrt(eigvals[0]))\n",
    "           # angle = int(np.arctan(eigvecs[1][1]/eigvecs[1][0]))\n",
    "           # axesLength = (int(a),int(b))\n",
    "            c = [int(colours[z][0]),int(colours[z][1]),int(colours[z][2])]\n",
    "            cv2.circle(img, coords, int(mu_obs[frame_count-1][z][4], c, -1)\n",
    "            #cv2.ellipse(frame, coords, axesLength, angle, 0, 360, c, 2) \n",
    "cv2.imshow('image', img)\n",
    "name = 'test.jpg'\n",
    "name = os.path.join(str(proccessed_image_path), name)\n",
    "cv2.imwrite(name, img)\n",
    "        #Clear the frames array to start the next batch\n",
    "frames = []"
   ]
  },
  {
   "cell_type": "code",
   "execution_count": 35,
   "metadata": {
    "pixiedust": {
     "displayParams": {}
    }
   },
   "outputs": [
    {
     "data": {
      "text/html": [
       "<style type=\"text/css\">.pd_warning{display:none;}</style><div class=\"pd_warning\"><em>Hey, there's something awesome here! To see it, open this notebook outside GitHub, in a viewer like Jupyter</em></div>"
      ],
      "text/plain": [
       "<IPython.core.display.HTML object>"
      ]
     },
     "metadata": {
      "pixieapp_metadata": null
     },
     "output_type": "display_data"
    }
   ],
   "source": [
    "%%pixie_debugger\n",
    "#Set Paths\n",
    "import glob\n",
    "import os\n",
    "vid_path = video_input\n",
    "proccessed_image_path = image_path_save\n",
    "#Start Capture + get number of frames\n",
    "startAngle = 0\n",
    "endAngle = 360\n",
    "thickness = 5\n",
    "colours = np.random.random_integers(0,255, size=(1500,3))\n",
    "color = np.array([[40,250,25],[250,20,140],[0,20,80],[250,25,50],[25,0,100],[0,0,255],[255,0,0],[100,0,100],[0,255,255],[255,255,0],[0,255,0],[0,100,0],[80,255,80],[255,255,255],[0,0,0]])\n",
    "images = list(glob.iglob(os.path.join(proccessed_image_path, '*.*')))\n",
    "images = sorted(images, key=lambda x: float(os.path.split(x)[1][:-3]))\n",
    "for i in range(100):\n",
    "    frame_count = i +1\n",
    "    img = cv2.imread(images[100],0)\n",
    "    for m in range(len(measurements[frame_count-1])):\n",
    "        if not np.any(pd.isnull(measurements[frame_count-1][m])):\n",
    "            coords = (int(measurements[frame_count-1][m][0]), int(1080-measurements[frame_count-1][m][1]))\n",
    "            dot_size = 5\n",
    "            black = [0,0,0]\n",
    "            cv2.circle(img, coords, dot_size, black, -1)\n",
    "    cv2.imshow('frame', img)\n",
    "    name = 'test'\n",
    "    name = os.path.join(str(proccessed_image_path), name)\n",
    "    cv2.imwrite(name, img)"
   ]
  },
  {
   "cell_type": "code",
   "execution_count": 73,
   "metadata": {},
   "outputs": [
    {
     "name": "stderr",
     "output_type": "stream",
     "text": [
      "C:\\Users\\ddefr\\Anaconda3\\envs\\pgmpractice\\lib\\site-packages\\ipykernel_launcher.py:1: DeprecationWarning: This function is deprecated. Please call randint(0, 255 + 1) instead\n",
      "  \"\"\"Entry point for launching an IPython kernel.\n"
     ]
    }
   ],
   "source": [
    "colours = np.random.random_integers(0,255, size=(1500,3))"
   ]
  },
  {
   "cell_type": "code",
   "execution_count": 91,
   "metadata": {
    "pixiedust": {
     "displayParams": {}
    }
   },
   "outputs": [
    {
     "name": "stderr",
     "output_type": "stream",
     "text": [
      "C:\\Users\\ddefr\\Anaconda3\\envs\\pgmpractice\\lib\\site-packages\\ipykernel_launcher.py:49: RuntimeWarning: divide by zero encountered in double_scalars\n"
     ]
    }
   ],
   "source": [
    "#Set Paths\n",
    "import glob\n",
    "import os\n",
    "proccessed_image_path = image_path_mask\n",
    "images = list(glob.iglob(os.path.join(proccessed_image_path, '*.*')))\n",
    "images = sorted(images, key=lambda x: float(os.path.split(x)[1][:-3]))\n",
    "\n",
    "\n",
    "for pics in range(4):\n",
    "    if pics == 0:\n",
    "        start = 0\n",
    "        finish = 0\n",
    "        image = images[finish]\n",
    "    elif pics == 1:\n",
    "        start = 0\n",
    "        finish = 40\n",
    "        image = images[finish]\n",
    "    elif pics == 2:\n",
    "        start = 0\n",
    "        finish = 80\n",
    "        image = images[finish]\n",
    "\n",
    "    img = cv2.imread(image,1)\n",
    "    for i in range(start,finish):\n",
    "        \n",
    "        for m in range(len(measurements[i])):\n",
    "            if not np.any(pd.isnull(measurements[i][m])):\n",
    "                coords = (int(measurements[i][m][0]), int(1080-measurements[i][m][1]))\n",
    "                dot_size = 5\n",
    "                black = [0,0,0]\n",
    "                #cv2.circle(img, coords, dot_size, black, -1)\n",
    "                img = cv2.circle(img, coords, radius=2, color=(0, 0, 0), thickness=-1)\n",
    "        for z in range(len(mu_obs[i])):\n",
    "            if z >1000:\n",
    "                if not np.any(pd.isnull(mu_obs[i][z])) and number_of_detections[z] > 20:\n",
    "                    coords = (int(mu_obs[i][z][0]), int(1080-mu_obs[i][z][1]))\n",
    "                    avg_cov = int((cov_obs[i][z][0][0]+cov_obs[i][z][1][1])/2)\n",
    "                    std_dev = int(np.sqrt(avg_cov))\n",
    "                    cov_2_by_2 = np.array([[cov_obs[i][z][0][0], cov_obs[i][z][0][1]],[cov_obs[i][z][1][0], cov_obs[i][z][1][1]]])\n",
    "                    eigvals, eigvecs = la.eig(cov_2_by_2)\n",
    "                    eigvals = eigvals.real\n",
    "                    if eigvals[0] > eigvals[1]:\n",
    "                        a = int(np.sqrt(eigvals[0]))\n",
    "                        b = int(np.sqrt(eigvals[1]))\n",
    "                        angle = int(np.arctan(eigvecs[0][1]/eigvecs[0][0]))\n",
    "                    else:\n",
    "                        a = int(np.sqrt(eigvals[1]))\n",
    "                        b = int(np.sqrt(eigvals[0]))\n",
    "                        angle = int(np.arctan(eigvecs[1][1]/eigvecs[1][0]))\n",
    "                    axesLength = (int(a),int(b))\n",
    "                    c = [int(colours[z][0]),int(colours[z][1]),int(colours[z][2])]\n",
    "                    img = cv2.circle(img, coords, 4, c, -1)\n",
    "                    #img = cv2.ellipse(img, coords, axesLength, angle, 0, 360, c, 2)    \n",
    "\n",
    "    name = 'get_mask_detect{}.png'.format(pics)\n",
    "    name = os.path.join(str(proccessed_image_path), name)\n",
    "    cv2.imwrite(name,img)"
   ]
  },
  {
   "cell_type": "code",
   "execution_count": null,
   "metadata": {},
   "outputs": [],
   "source": []
  }
 ],
 "metadata": {
  "kernelspec": {
   "display_name": "Python 3.6.10 64-bit ('pgmpractice': conda)",
   "language": "python",
   "name": "python361064bitpgmpracticeconda5b31ac614eac4629951ba8226450065a"
  },
  "language_info": {
   "codemirror_mode": {
    "name": "ipython",
    "version": 3
   },
   "file_extension": ".py",
   "mimetype": "text/x-python",
   "name": "python",
   "nbconvert_exporter": "python",
   "pygments_lexer": "ipython3",
   "version": "3.6.10"
  }
 },
 "nbformat": 4,
 "nbformat_minor": 4
}
